{
  "nbformat": 4,
  "nbformat_minor": 0,
  "metadata": {
    "colab": {
      "name": "Linear Regression From Scratch.ipynb",
      "provenance": [],
      "authorship_tag": "ABX9TyOc2SqtkiA0NrJoBo362xFI",
      "include_colab_link": true
    },
    "kernelspec": {
      "name": "python3",
      "display_name": "Python 3"
    }
  },
  "cells": [
    {
      "cell_type": "markdown",
      "metadata": {
        "id": "view-in-github",
        "colab_type": "text"
      },
      "source": [
        "<a href=\"https://colab.research.google.com/github/prd-dahal/AI_Projects/blob/master/Linear_Regression_From_Scratch.ipynb\" target=\"_parent\"><img src=\"https://colab.research.google.com/assets/colab-badge.svg\" alt=\"Open In Colab\"/></a>"
      ]
    },
    {
      "cell_type": "markdown",
      "metadata": {
        "id": "pqYfEOn7LOFm",
        "colab_type": "text"
      },
      "source": [
        "## **Linear Regression From Scratch Using Linear Regression**\n",
        "Vectorized Implementation\n"
      ]
    },
    {
      "cell_type": "code",
      "metadata": {
        "id": "TxXms8HHfGM3",
        "colab_type": "code",
        "colab": {}
      },
      "source": [
        "#import dependencies \n",
        "import numpy as np\n",
        "import matplotlib.pyplot as plt \n",
        "from sklearn.datasets import load_diabetes"
      ],
      "execution_count": 0,
      "outputs": []
    },
    {
      "cell_type": "code",
      "metadata": {
        "id": "vXOcACi8LIeq",
        "colab_type": "code",
        "colab": {}
      },
      "source": [
        "class LinearRegression:\n",
        "  def __init__(self,alpha=0.1,num_iter=100,verbose=False):\n",
        "    #hyper_parameters\n",
        "    self.alpha = alpha\n",
        "    self.num_iter = num_iter \n",
        "    self.verbose = verbose\n",
        "\n",
        "    #parameters\n",
        "    self.weights = list()\n",
        "    self.intercept = 0\n",
        "\n",
        "    self.nx = 1\n",
        "    self.m = 1\n",
        "\n",
        "    self.JArray = list()\n",
        "\n",
        "  def __initialize_weights(self):\n",
        "    self.weights = np.zeros((1,self.nx))\n",
        "  \n",
        "  def errors(self):\n",
        "    return self.num_iter,self.JArray \n",
        "\n",
        "  def fit(self,X,y):\n",
        "    \n",
        "    self.nx = X.shape[0]\n",
        "    self.m = X.shape[1] \n",
        "    \n",
        "    #intitalize weight\n",
        "    self.__initialize_weights()\n",
        "    \n",
        "    #insert zero in the first row\n",
        "    np.insert(X,0,np.ones((1,self.m)),axis=0)\n",
        "    \n",
        "    for i in range(self.num_iter):\n",
        "      #error calculation \n",
        "      error = (np.square(np.dot(self.weights,X) - y).mean()) /2\n",
        "      self.JArray.append(error)\n",
        "      if(self.verbose==True):\n",
        "        print(\"The error at the interation is {}\".format(error))\n",
        "      \n",
        "      # derivative calculation for gradient descent\n",
        "      self.weights = self.weights - self.alpha * (((np.dot(self.weights,X) - y)) * X).mean()\n"
      ],
      "execution_count": 0,
      "outputs": []
    },
    {
      "cell_type": "code",
      "metadata": {
        "id": "5K-VmA-YMKAB",
        "colab_type": "code",
        "colab": {
          "base_uri": "https://localhost:8080/",
          "height": 283
        },
        "outputId": "91a06413-c45f-4639-e82f-25abb0032f2f"
      },
      "source": [
        "data = load_diabetes()\n",
        "X = np.array(data.data)\n",
        "X = X.T\n",
        "y = data.target\n",
        "lr = LinearRegression(alpha=0.5,num_iter=500000)\n",
        "lr.fit(X,y)\n",
        "\n",
        "n,error = lr.errors()\n",
        "n = range(n)\n",
        "\n",
        "plt.plot(n,error)\n",
        "\n",
        "## THE ERROR IS HIGH BECUASE THE DATA IS NOT NORMALIZED"
      ],
      "execution_count": 4,
      "outputs": [
        {
          "output_type": "execute_result",
          "data": {
            "text/plain": [
              "[<matplotlib.lines.Line2D at 0x7f8aa2163c88>]"
            ]
          },
          "metadata": {
            "tags": []
          },
          "execution_count": 4
        },
        {
          "output_type": "display_data",
          "data": {
            "image/png": "[encoded data removed]",
            "text/plain": [
              "<Figure size 432x288 with 1 Axes>"
            ]
          },
          "metadata": {
            "tags": []
          }
        }
      ]
    }
  ]
}