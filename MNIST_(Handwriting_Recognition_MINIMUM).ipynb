{
  "nbformat": 4,
  "nbformat_minor": 0,
  "metadata": {
    "colab": {
      "name": "MNIST (Handwriting Recognition- MINIMUM).ipynb",
      "provenance": [],
      "collapsed_sections": [],
      "authorship_tag": "ABX9TyOjUJDGZU85wWGhaj6AsdNs",
      "include_colab_link": true
    },
    "kernelspec": {
      "name": "python3",
      "display_name": "Python 3"
    }
  },
  "cells": [
    {
      "cell_type": "markdown",
      "metadata": {
        "id": "view-in-github",
        "colab_type": "text"
      },
      "source": [
        "<a href=\"https://colab.research.google.com/github/prd-dahal/AI_Projects/blob/master/MNIST_(Handwriting_Recognition_MINIMUM).ipynb\" target=\"_parent\"><img src=\"https://colab.research.google.com/assets/colab-badge.svg\" alt=\"Open In Colab\"/></a>"
      ]
    },
    {
      "cell_type": "code",
      "metadata": {
        "id": "ucCiqwZdKLF2",
        "colab_type": "code",
        "colab": {}
      },
      "source": [
        "import keras \n",
        "from keras import Sequential\n",
        "from keras.layers import Dense,Conv2D, MaxPooling2D,Flatten, Dropout\n",
        "from keras.datasets import mnist\n",
        "from keras.utils import np_utils"
      ],
      "execution_count": 0,
      "outputs": []
    },
    {
      "cell_type": "code",
      "metadata": {
        "id": "QWD2Spz1LJ42",
        "colab_type": "code",
        "colab": {}
      },
      "source": [
        "(X_train, y_train), (X_test, y_test) = mnist.load_data()\n",
        "\n",
        "X_train = X_train.reshape((X_train.shape[0], 28, 28, 1)).astype('float32')\n",
        "X_test = X_test.reshape((X_test.shape[0], 28, 28, 1)).astype('float32')\n",
        "\n",
        "X_train = X_train / 255\n",
        "X_test = X_test / 255\n",
        "\n",
        "y_train = np_utils.to_categorical(y_train)\n",
        "y_test = np_utils.to_categorical(y_test)\n",
        "num_classes = y_test.shape[1]"
      ],
      "execution_count": 0,
      "outputs": []
    },
    {
      "cell_type": "code",
      "metadata": {
        "id": "W8DIn_vwK3yW",
        "colab_type": "code",
        "colab": {
          "base_uri": "https://localhost:8080/",
          "height": 357
        },
        "outputId": "51d7c311-3348-475a-820c-c2ad61ac95fd"
      },
      "source": [
        "#model \n",
        "model = Sequential([\n",
        "\n",
        "  Conv2D(32, (5, 5), input_shape=(28, 28, 1), activation='relu'),\n",
        "\tMaxPooling2D(),\n",
        "\tDropout(0.2),\n",
        "\tFlatten(),\n",
        "\tDense(128, activation='relu'),\n",
        "\tDense(num_classes, activation='softmax')                  \n",
        "])\n",
        "model.summary()"
      ],
      "execution_count": 30,
      "outputs": [
        {
          "output_type": "stream",
          "text": [
            "Model: \"sequential_6\"\n",
            "_________________________________________________________________\n",
            "Layer (type)                 Output Shape              Param #   \n",
            "=================================================================\n",
            "conv2d_7 (Conv2D)            (None, 24, 24, 32)        832       \n",
            "_________________________________________________________________\n",
            "max_pooling2d_7 (MaxPooling2 (None, 12, 12, 32)        0         \n",
            "_________________________________________________________________\n",
            "dropout_6 (Dropout)          (None, 12, 12, 32)        0         \n",
            "_________________________________________________________________\n",
            "flatten_6 (Flatten)          (None, 4608)              0         \n",
            "_________________________________________________________________\n",
            "dense_11 (Dense)             (None, 128)               589952    \n",
            "_________________________________________________________________\n",
            "dense_12 (Dense)             (None, 10)                1290      \n",
            "=================================================================\n",
            "Total params: 592,074\n",
            "Trainable params: 592,074\n",
            "Non-trainable params: 0\n",
            "_________________________________________________________________\n"
          ],
          "name": "stdout"
        }
      ]
    },
    {
      "cell_type": "code",
      "metadata": {
        "id": "IX2x5HvVNdYy",
        "colab_type": "code",
        "colab": {}
      },
      "source": [
        "model.compile(optimizer='adam', loss='categorical_crossentropy', metrics=['accuracy'])"
      ],
      "execution_count": 0,
      "outputs": []
    },
    {
      "cell_type": "code",
      "metadata": {
        "id": "Wbj3Q53NQlId",
        "colab_type": "code",
        "colab": {
          "base_uri": "https://localhost:8080/",
          "height": 731
        },
        "outputId": "fef999ab-ef9c-42d5-a187-dcba4ec5bd15"
      },
      "source": [
        "model.fit(X_train, y_train, validation_data=(X_test,y_test),batch_size=32,epochs=20)"
      ],
      "execution_count": 38,
      "outputs": [
        {
          "output_type": "stream",
          "text": [
            "Train on 60000 samples, validate on 10000 samples\n",
            "Epoch 1/20\n",
            "60000/60000 [==============================] - 46s 775us/step - loss: 0.0109 - accuracy: 0.9962 - val_loss: 0.0481 - val_accuracy: 0.9887\n",
            "Epoch 2/20\n",
            "60000/60000 [==============================] - 46s 764us/step - loss: 0.0079 - accuracy: 0.9974 - val_loss: 0.0559 - val_accuracy: 0.9878\n",
            "Epoch 3/20\n",
            "60000/60000 [==============================] - 47s 786us/step - loss: 0.0077 - accuracy: 0.9973 - val_loss: 0.0565 - val_accuracy: 0.9873\n",
            "Epoch 4/20\n",
            "60000/60000 [==============================] - 47s 775us/step - loss: 0.0073 - accuracy: 0.9973 - val_loss: 0.0459 - val_accuracy: 0.9900\n",
            "Epoch 5/20\n",
            "60000/60000 [==============================] - 46s 767us/step - loss: 0.0066 - accuracy: 0.9975 - val_loss: 0.0674 - val_accuracy: 0.9878\n",
            "Epoch 6/20\n",
            "60000/60000 [==============================] - 46s 761us/step - loss: 0.0055 - accuracy: 0.9983 - val_loss: 0.0503 - val_accuracy: 0.9895\n",
            "Epoch 7/20\n",
            "60000/60000 [==============================] - 46s 762us/step - loss: 0.0062 - accuracy: 0.9979 - val_loss: 0.0576 - val_accuracy: 0.9882\n",
            "Epoch 8/20\n",
            "60000/60000 [==============================] - 47s 786us/step - loss: 0.0058 - accuracy: 0.9983 - val_loss: 0.0521 - val_accuracy: 0.9901\n",
            "Epoch 9/20\n",
            "60000/60000 [==============================] - 47s 788us/step - loss: 0.0041 - accuracy: 0.9985 - val_loss: 0.0536 - val_accuracy: 0.9893\n",
            "Epoch 10/20\n",
            "60000/60000 [==============================] - 46s 769us/step - loss: 0.0055 - accuracy: 0.9982 - val_loss: 0.0613 - val_accuracy: 0.9880\n",
            "Epoch 11/20\n",
            "60000/60000 [==============================] - 46s 772us/step - loss: 0.0037 - accuracy: 0.9987 - val_loss: 0.0718 - val_accuracy: 0.9881\n",
            "Epoch 12/20\n",
            "60000/60000 [==============================] - 46s 759us/step - loss: 0.0053 - accuracy: 0.9981 - val_loss: 0.0593 - val_accuracy: 0.9896\n",
            "Epoch 13/20\n",
            "60000/60000 [==============================] - 46s 769us/step - loss: 0.0045 - accuracy: 0.9985 - val_loss: 0.0605 - val_accuracy: 0.9888\n",
            "Epoch 14/20\n",
            "60000/60000 [==============================] - 48s 807us/step - loss: 0.0043 - accuracy: 0.9985 - val_loss: 0.0692 - val_accuracy: 0.9892\n",
            "Epoch 15/20\n",
            "60000/60000 [==============================] - 47s 776us/step - loss: 0.0032 - accuracy: 0.9990 - val_loss: 0.0710 - val_accuracy: 0.9895\n",
            "Epoch 16/20\n",
            "60000/60000 [==============================] - 46s 771us/step - loss: 0.0045 - accuracy: 0.9986 - val_loss: 0.0835 - val_accuracy: 0.9877\n",
            "Epoch 17/20\n",
            "60000/60000 [==============================] - 45s 756us/step - loss: 0.0036 - accuracy: 0.9989 - val_loss: 0.0704 - val_accuracy: 0.9896\n",
            "Epoch 18/20\n",
            "60000/60000 [==============================] - 46s 759us/step - loss: 0.0030 - accuracy: 0.9991 - val_loss: 0.0821 - val_accuracy: 0.9898\n",
            "Epoch 19/20\n",
            "60000/60000 [==============================] - 46s 766us/step - loss: 0.0043 - accuracy: 0.9988 - val_loss: 0.0714 - val_accuracy: 0.9903\n",
            "Epoch 20/20\n",
            "60000/60000 [==============================] - 46s 762us/step - loss: 0.0040 - accuracy: 0.9988 - val_loss: 0.0689 - val_accuracy: 0.9907\n"
          ],
          "name": "stdout"
        },
        {
          "output_type": "execute_result",
          "data": {
            "text/plain": [
              "<keras.callbacks.callbacks.History at 0x7f63ebe06208>"
            ]
          },
          "metadata": {
            "tags": []
          },
          "execution_count": 38
        }
      ]
    },
    {
      "cell_type": "code",
      "metadata": {
        "id": "PKvq8Qs2RCrJ",
        "colab_type": "code",
        "colab": {
          "base_uri": "https://localhost:8080/",
          "height": 173
        },
        "outputId": "1131be4b-e3ad-4de2-9896-f64f6ce866c2"
      },
      "source": [
        "from google.colab import drive\n",
        "drive.mount('/content/gdrive')\n",
        "import os\n",
        "print(os.listdir('/content/gdrive/My Drive/'))\n"
      ],
      "execution_count": 41,
      "outputs": [
        {
          "output_type": "stream",
          "text": [
            "Go to this URL in a browser: https://accounts.google.com/o/oauth2/auth?client_id=947318989803-6bn6qk8qdgf4n4g3pfee6491hc0brc4i.apps.googleusercontent.com&redirect_uri=urn%3aietf%3awg%3aoauth%3a2.0%3aoob&response_type=code&scope=email%20https%3a%2f%2fwww.googleapis.com%2fauth%2fdocs.test%20https%3a%2f%2fwww.googleapis.com%2fauth%2fdrive%20https%3a%2f%2fwww.googleapis.com%2fauth%2fdrive.photos.readonly%20https%3a%2f%2fwww.googleapis.com%2fauth%2fpeopleapi.readonly\n",
            "\n",
            "Enter your authorization code:\n",
            "··········\n",
            "Mounted at /content/gdrive\n",
            "['Getting started.pdf', '[James_Stewart]_Calculus_Early_Transcendentals,_7(BookSee.org) (1).pdf', 'Crystal(1).pptx', 'free electron model.pdf', 'Final report Cover.pdf', 'Final Report.pdf', 'Classroom', 'Rosen_Discrete_Mathematics_and_Its_Applications_7th_Edition.pdf', 'Arithmetic and Logic Unit.docx', 'C plus plus project', 'sajesh', 'ds', 'ceil.cpp', 'floor.cpp', 'stat', 'second_sem_project', 'microprocessor presentation', 'STATEMENT.gdoc', 'pradeep project (bootstrap)', 'microprocessor (1)', 'microprocessor', 'Kenneth H. Rosen - Discrete Mathematics and its Applications, Fifth Edition (2002, MGH).djvu', 'Practical No.2.docx', 'Practical No.3.docx', 'Practical No.5.docx', 'Practical No.5.gdoc', 'Practical No.3.gdoc', 'stat practical 15.docx', 'cpp final report', 'BOOKS', '20141124_101752.jpg', 'Untitled document (1).gdoc', 'third sem', 'Lab Assignment #3.docx', 'Lab Assignment #3 (1).gdoc', 'Lab Assignment #3.gdoc', 'YPreal.docx', 'openGL.pptx', 'Survey.pdf.docx', 'Survey.pdf.gdoc', 'ST.XAVIER’S COLLEGE (Affiliated to Tribhuvan University) Maitighar, Kathmandu      DATA STRUCTURE AND ALGORITHM  LAB ASSIG~intf(\"\\\\n Move disk %d from peg %c to peg %c\", n, frompeg, topeg);     towers(n - 1, auxpeg, topeg, frompeg); }  Output:LAB#3.gdoc', 'app.exe', 'stat_stochastic_process.pdf', 'work', 'ansi c balaguruswamy c language ( PDFDrive.com ).pdf', 'dbms assignment#1.gdoc', 'AI Assignment #3.gdoc', 'Lab 2.gdoc', 'AI assignment .gdoc', 'OPERATING SYSTEM OVERVIEW.pptx', 'OPERATING SYSTEM OVERVIEW (1).gslides', 'OPERATING SYSTEM OVERVIEW.gslides', 'Assignment 3.docx', 'shikhar backup', 'Big data analytics in healthcare promise.pdf', 'Big data analytics in healthcare promise.gdoc', 'Twitter as a Corpus for Sentiment Analysis and Opinion Mining.pdf', 'Twitter as a Corpus for Sentiment Analysis and Opinion Mining.gdoc', 'Lab2.odt', 'Lab2.gdoc', 'zippy share .gdoc', 'PROWinx64Legacy.exe', 'AI-Unit-3.gdoc', 'Colab Notebooks', 'sqlproject.drawio', 'research_proposal.docx', 'Sarjan Sir Slides', 'Backup', 'dbms_assignment', 'Research Assignment #2.1.gdoc', 'literature review .gdoc', 'Research assignment 2.2.gdoc', 'why literature review is important.gdoc', 'Role of youths in Transforming Education.gdoc', 'Linux Notes', 'reseach_paper_list.gdoc', 'Future of Machine Learning.gdoc', 'terms i hace to study  ( research).gdoc', 'Threats of AI.gdoc', 'OS-questionnaire.rtf.gdoc', 'money_detection', 'money_detection.zipx', 'Untitled document.gdoc', 'research_letter_gangalal (1).docx', 'FINAL YEAR PROJECT DOCUMENTATION.pdf', 'last_chapter.odp', 'certificate.pdf', 'ai school .pdf', 'AI as a threat.gdoc', 'CNreport.docx', 'CN Abstract.gdoc', 'CN Acknowledgement.gdoc', 'CN report', 'CN front page.gdoc', 'OS case study report', 'DBMS .docx', 'research_letter_gangalal.docx', 'research_letter_gangalal.gdoc', 'research workflow diagram.drawio', 'ImageLab', 'Ideas.gsheet', 'Discussions for Exchange goods.gdoc', 'Copy of IIT Final report Cover.gdoc', '3k (kaha kasari kati).docx', '3k(Kaha Kasaree Kati).gdoc', 'simple IHD research Model', 'image processing lab.gdoc', 'Nepali currency detection', 'IHD Workflow', 'textbook.pdf', 'Letter for Alumni.docx', 'society and ethics.gdoc', 'IHD research purposal.gdoc', 'Markov_Chain.gdoc', 'KMSpico.zip', 'See the world without Eyes– A Beauty of Brain.gdoc', 'Research', 'data', 'temp.csv', 'Project for Camp.gdoc', 'Print 2   20  2020', 'Aurélien Géron - Hands-On Machine Learning with Scikit-Learn and TensorFlow Concepts, Tools, and Techniques to Build Intelligent Systems (2017, O’Reilly Media).pdf', 'Sem V Microsyllablus.pdf', 'upload (1).JPG', 'upload.JPG', 'P, NP, NP-HARD and Np-Complete.pptx', 'Object Oriented Development.pptx', 'Economic Feasibility 1.xlsx', 'Economic Feasibility 1.gsheet', 'SEM 5', 'MONEY DETECTION DATA', 'Medical_Data_ML', 'EMNIST']\n",
            "Drive already mounted at /content/gdrive; to attempt to forcibly remount, call drive.mount(\"/content/gdrive\", force_remount=True).\n",
            "['Getting started.pdf', '[James_Stewart]_Calculus_Early_Transcendentals,_7(BookSee.org) (1).pdf', 'Crystal(1).pptx', 'free electron model.pdf', 'Final report Cover.pdf', 'Final Report.pdf', 'Classroom', 'Rosen_Discrete_Mathematics_and_Its_Applications_7th_Edition.pdf', 'Arithmetic and Logic Unit.docx', 'C plus plus project', 'sajesh', 'ds', 'ceil.cpp', 'floor.cpp', 'stat', 'second_sem_project', 'microprocessor presentation', 'STATEMENT.gdoc', 'pradeep project (bootstrap)', 'microprocessor (1)', 'microprocessor', 'Kenneth H. Rosen - Discrete Mathematics and its Applications, Fifth Edition (2002, MGH).djvu', 'Practical No.2.docx', 'Practical No.3.docx', 'Practical No.5.docx', 'Practical No.5.gdoc', 'Practical No.3.gdoc', 'stat practical 15.docx', 'cpp final report', 'BOOKS', '20141124_101752.jpg', 'Untitled document (1).gdoc', 'third sem', 'Lab Assignment #3.docx', 'Lab Assignment #3 (1).gdoc', 'Lab Assignment #3.gdoc', 'YPreal.docx', 'openGL.pptx', 'Survey.pdf.docx', 'Survey.pdf.gdoc', 'ST.XAVIER’S COLLEGE (Affiliated to Tribhuvan University) Maitighar, Kathmandu      DATA STRUCTURE AND ALGORITHM  LAB ASSIG~intf(\"\\\\n Move disk %d from peg %c to peg %c\", n, frompeg, topeg);     towers(n - 1, auxpeg, topeg, frompeg); }  Output:LAB#3.gdoc', 'app.exe', 'stat_stochastic_process.pdf', 'work', 'ansi c balaguruswamy c language ( PDFDrive.com ).pdf', 'dbms assignment#1.gdoc', 'AI Assignment #3.gdoc', 'Lab 2.gdoc', 'AI assignment .gdoc', 'OPERATING SYSTEM OVERVIEW.pptx', 'OPERATING SYSTEM OVERVIEW (1).gslides', 'OPERATING SYSTEM OVERVIEW.gslides', 'Assignment 3.docx', 'shikhar backup', 'Big data analytics in healthcare promise.pdf', 'Big data analytics in healthcare promise.gdoc', 'Twitter as a Corpus for Sentiment Analysis and Opinion Mining.pdf', 'Twitter as a Corpus for Sentiment Analysis and Opinion Mining.gdoc', 'Lab2.odt', 'Lab2.gdoc', 'zippy share .gdoc', 'PROWinx64Legacy.exe', 'AI-Unit-3.gdoc', 'Colab Notebooks', 'sqlproject.drawio', 'research_proposal.docx', 'Sarjan Sir Slides', 'Backup', 'dbms_assignment', 'Research Assignment #2.1.gdoc', 'literature review .gdoc', 'Research assignment 2.2.gdoc', 'why literature review is important.gdoc', 'Role of youths in Transforming Education.gdoc', 'Linux Notes', 'reseach_paper_list.gdoc', 'Future of Machine Learning.gdoc', 'terms i hace to study  ( research).gdoc', 'Threats of AI.gdoc', 'OS-questionnaire.rtf.gdoc', 'money_detection', 'money_detection.zipx', 'Untitled document.gdoc', 'research_letter_gangalal (1).docx', 'FINAL YEAR PROJECT DOCUMENTATION.pdf', 'last_chapter.odp', 'certificate.pdf', 'ai school .pdf', 'AI as a threat.gdoc', 'CNreport.docx', 'CN Abstract.gdoc', 'CN Acknowledgement.gdoc', 'CN report', 'CN front page.gdoc', 'OS case study report', 'DBMS .docx', 'research_letter_gangalal.docx', 'research_letter_gangalal.gdoc', 'research workflow diagram.drawio', 'ImageLab', 'Ideas.gsheet', 'Discussions for Exchange goods.gdoc', 'Copy of IIT Final report Cover.gdoc', '3k (kaha kasari kati).docx', '3k(Kaha Kasaree Kati).gdoc', 'simple IHD research Model', 'image processing lab.gdoc', 'Nepali currency detection', 'IHD Workflow', 'textbook.pdf', 'Letter for Alumni.docx', 'society and ethics.gdoc', 'IHD research purposal.gdoc', 'Markov_Chain.gdoc', 'KMSpico.zip', 'See the world without Eyes– A Beauty of Brain.gdoc', 'Research', 'data', 'temp.csv', 'Project for Camp.gdoc', 'Print 2   20  2020', 'Aurélien Géron - Hands-On Machine Learning with Scikit-Learn and TensorFlow Concepts, Tools, and Techniques to Build Intelligent Systems (2017, O’Reilly Media).pdf', 'Sem V Microsyllablus.pdf', 'upload (1).JPG', 'upload.JPG', 'P, NP, NP-HARD and Np-Complete.pptx', 'Object Oriented Development.pptx', 'Economic Feasibility 1.xlsx', 'Economic Feasibility 1.gsheet', 'SEM 5', 'MONEY DETECTION DATA', 'Medical_Data_ML', 'EMNIST']\n"
          ],
          "name": "stdout"
        }
      ]
    },
    {
      "cell_type": "code",
      "metadata": {
        "id": "u2JzZf73XdHi",
        "colab_type": "code",
        "colab": {}
      },
      "source": [
        "model.save('mnist_dataset.h5')"
      ],
      "execution_count": 0,
      "outputs": []
    }
  ]
}