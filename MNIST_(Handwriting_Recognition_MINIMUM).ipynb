{
  "nbformat": 4,
  "nbformat_minor": 0,
  "metadata": {
    "colab": {
      "name": "MNIST (Handwriting Recognition- MINIMUM).ipynb",
      "provenance": [],
      "collapsed_sections": [],
      "authorship_tag": "ABX9TyP8Hk52mvrmQFDzr2NPaXPX",
      "include_colab_link": true
    },
    "kernelspec": {
      "name": "python3",
      "display_name": "Python 3"
    }
  },
  "cells": [
    {
      "cell_type": "markdown",
      "metadata": {
        "id": "view-in-github",
        "colab_type": "text"
      },
      "source": [
        "<a href=\"https://colab.research.google.com/github/prd-dahal/AI_Projects/blob/master/MNIST_(Handwriting_Recognition_MINIMUM).ipynb\" target=\"_parent\"><img src=\"https://colab.research.google.com/assets/colab-badge.svg\" alt=\"Open In Colab\"/></a>"
      ]
    },
    {
      "cell_type": "code",
      "metadata": {
        "id": "ucCiqwZdKLF2",
        "colab_type": "code",
        "colab": {
          "base_uri": "https://localhost:8080/",
          "height": 34
        },
        "outputId": "90adcf9e-0958-442c-97bf-28a2e217c6e6"
      },
      "source": [
        "import keras \n",
        "from keras import Sequential\n",
        "from keras.layers import Dense,Conv2D, MaxPooling2D,Flatten, Dropout\n",
        "from keras.datasets import mnist\n",
        "from keras.utils import np_utils"
      ],
      "execution_count": 2,
      "outputs": [
        {
          "output_type": "stream",
          "text": [
            "Using TensorFlow backend.\n"
          ],
          "name": "stderr"
        }
      ]
    },
    {
      "cell_type": "code",
      "metadata": {
        "id": "QWD2Spz1LJ42",
        "colab_type": "code",
        "colab": {
          "base_uri": "https://localhost:8080/",
          "height": 51
        },
        "outputId": "52b7d46c-638e-47e6-85be-393bbb56fd16"
      },
      "source": [
        "(X_train, y_train), (X_test, y_test) = mnist.load_data()\n",
        "\n",
        "X_train = X_train.reshape((X_train.shape[0], 28, 28, 1)).astype('float32')\n",
        "X_test = X_test.reshape((X_test.shape[0], 28, 28, 1)).astype('float32')\n",
        "\n",
        "X_train = X_train / 255\n",
        "X_test = X_test / 255\n",
        "\n",
        "y_train = np_utils.to_categorical(y_train)\n",
        "y_test = np_utils.to_categorical(y_test)\n",
        "num_classes = y_test.shape[1]"
      ],
      "execution_count": 3,
      "outputs": [
        {
          "output_type": "stream",
          "text": [
            "Downloading data from https://s3.amazonaws.com/img-datasets/mnist.npz\n",
            "11493376/11490434 [==============================] - 2s 0us/step\n"
          ],
          "name": "stdout"
        }
      ]
    },
    {
      "cell_type": "code",
      "metadata": {
        "id": "W8DIn_vwK3yW",
        "colab_type": "code",
        "outputId": "06720129-219d-40e2-b6f6-a72b09ee2af8",
        "colab": {
          "base_uri": "https://localhost:8080/",
          "height": 357
        }
      },
      "source": [
        "#model \n",
        "model = Sequential([\n",
        "\n",
        "  Conv2D(32, (5, 5), input_shape=(28, 28, 1), activation='relu'),\n",
        "\tMaxPooling2D(),\n",
        "\tDropout(0.2),\n",
        "\tFlatten(),\n",
        "\tDense(128, activation='relu'),\n",
        "\tDense(num_classes, activation='softmax')                  \n",
        "])\n",
        "model.summary()"
      ],
      "execution_count": 4,
      "outputs": [
        {
          "output_type": "stream",
          "text": [
            "Model: \"sequential_1\"\n",
            "_________________________________________________________________\n",
            "Layer (type)                 Output Shape              Param #   \n",
            "=================================================================\n",
            "conv2d_1 (Conv2D)            (None, 24, 24, 32)        832       \n",
            "_________________________________________________________________\n",
            "max_pooling2d_1 (MaxPooling2 (None, 12, 12, 32)        0         \n",
            "_________________________________________________________________\n",
            "dropout_1 (Dropout)          (None, 12, 12, 32)        0         \n",
            "_________________________________________________________________\n",
            "flatten_1 (Flatten)          (None, 4608)              0         \n",
            "_________________________________________________________________\n",
            "dense_1 (Dense)              (None, 128)               589952    \n",
            "_________________________________________________________________\n",
            "dense_2 (Dense)              (None, 10)                1290      \n",
            "=================================================================\n",
            "Total params: 592,074\n",
            "Trainable params: 592,074\n",
            "Non-trainable params: 0\n",
            "_________________________________________________________________\n"
          ],
          "name": "stdout"
        }
      ]
    },
    {
      "cell_type": "code",
      "metadata": {
        "id": "IX2x5HvVNdYy",
        "colab_type": "code",
        "colab": {}
      },
      "source": [
        "model.compile(optimizer='adam', loss='categorical_crossentropy', metrics=['accuracy'])"
      ],
      "execution_count": 0,
      "outputs": []
    },
    {
      "cell_type": "code",
      "metadata": {
        "id": "Wbj3Q53NQlId",
        "colab_type": "code",
        "outputId": "7c4ef23c-a1cc-4bf4-9974-323568e1024f",
        "colab": {
          "base_uri": "https://localhost:8080/",
          "height": 751
        }
      },
      "source": [
        "model.fit(X_train, y_train, validation_data=(X_test,y_test),batch_size=32,epochs=20)"
      ],
      "execution_count": 6,
      "outputs": [
        {
          "output_type": "stream",
          "text": [
            "Train on 60000 samples, validate on 10000 samples\n",
            "Epoch 1/20\n",
            "60000/60000 [==============================] - 42s 694us/step - loss: 0.1393 - accuracy: 0.9583 - val_loss: 0.0539 - val_accuracy: 0.9833\n",
            "Epoch 2/20\n",
            "60000/60000 [==============================] - 41s 681us/step - loss: 0.0501 - accuracy: 0.9847 - val_loss: 0.0415 - val_accuracy: 0.9863\n",
            "Epoch 3/20\n",
            "60000/60000 [==============================] - 41s 679us/step - loss: 0.0331 - accuracy: 0.9891 - val_loss: 0.0372 - val_accuracy: 0.9887\n",
            "Epoch 4/20\n",
            "60000/60000 [==============================] - 41s 686us/step - loss: 0.0252 - accuracy: 0.9919 - val_loss: 0.0439 - val_accuracy: 0.9866\n",
            "Epoch 5/20\n",
            "60000/60000 [==============================] - 41s 679us/step - loss: 0.0192 - accuracy: 0.9938 - val_loss: 0.0384 - val_accuracy: 0.9884\n",
            "Epoch 6/20\n",
            "60000/60000 [==============================] - 41s 679us/step - loss: 0.0153 - accuracy: 0.9949 - val_loss: 0.0435 - val_accuracy: 0.9871\n",
            "Epoch 7/20\n",
            "60000/60000 [==============================] - 41s 683us/step - loss: 0.0119 - accuracy: 0.9959 - val_loss: 0.0405 - val_accuracy: 0.9889\n",
            "Epoch 8/20\n",
            "60000/60000 [==============================] - 41s 681us/step - loss: 0.0102 - accuracy: 0.9965 - val_loss: 0.0381 - val_accuracy: 0.9909\n",
            "Epoch 9/20\n",
            "60000/60000 [==============================] - 41s 677us/step - loss: 0.0086 - accuracy: 0.9972 - val_loss: 0.0479 - val_accuracy: 0.9873\n",
            "Epoch 10/20\n",
            "60000/60000 [==============================] - 40s 674us/step - loss: 0.0078 - accuracy: 0.9973 - val_loss: 0.0432 - val_accuracy: 0.9895\n",
            "Epoch 11/20\n",
            "60000/60000 [==============================] - 41s 677us/step - loss: 0.0071 - accuracy: 0.9975 - val_loss: 0.0581 - val_accuracy: 0.9882\n",
            "Epoch 12/20\n",
            "60000/60000 [==============================] - 41s 677us/step - loss: 0.0073 - accuracy: 0.9974 - val_loss: 0.0424 - val_accuracy: 0.9892\n",
            "Epoch 13/20\n",
            "60000/60000 [==============================] - 40s 673us/step - loss: 0.0058 - accuracy: 0.9979 - val_loss: 0.0519 - val_accuracy: 0.9890\n",
            "Epoch 14/20\n",
            "60000/60000 [==============================] - 40s 670us/step - loss: 0.0053 - accuracy: 0.9983 - val_loss: 0.0518 - val_accuracy: 0.9886\n",
            "Epoch 15/20\n",
            "60000/60000 [==============================] - 40s 671us/step - loss: 0.0057 - accuracy: 0.9982 - val_loss: 0.0548 - val_accuracy: 0.9883\n",
            "Epoch 16/20\n",
            "60000/60000 [==============================] - 40s 667us/step - loss: 0.0052 - accuracy: 0.9983 - val_loss: 0.0605 - val_accuracy: 0.9874\n",
            "Epoch 17/20\n",
            "60000/60000 [==============================] - 40s 667us/step - loss: 0.0036 - accuracy: 0.9989 - val_loss: 0.0657 - val_accuracy: 0.9894\n",
            "Epoch 18/20\n",
            "60000/60000 [==============================] - 40s 668us/step - loss: 0.0052 - accuracy: 0.9982 - val_loss: 0.0535 - val_accuracy: 0.9896\n",
            "Epoch 19/20\n",
            "60000/60000 [==============================] - 40s 675us/step - loss: 0.0049 - accuracy: 0.9986 - val_loss: 0.0651 - val_accuracy: 0.9876\n",
            "Epoch 20/20\n",
            "60000/60000 [==============================] - 40s 663us/step - loss: 0.0041 - accuracy: 0.9985 - val_loss: 0.0647 - val_accuracy: 0.9895\n"
          ],
          "name": "stdout"
        },
        {
          "output_type": "execute_result",
          "data": {
            "text/plain": [
              "<keras.callbacks.callbacks.History at 0x7fe4f2650cc0>"
            ]
          },
          "metadata": {
            "tags": []
          },
          "execution_count": 6
        }
      ]
    },
    {
      "cell_type": "code",
      "metadata": {
        "id": "PKvq8Qs2RCrJ",
        "colab_type": "code",
        "colab": {}
      },
      "source": [
        "model.save('mnist.h5')"
      ],
      "execution_count": 0,
      "outputs": []
    },
    {
      "cell_type": "code",
      "metadata": {
        "id": "e5QgGAZlzaL9",
        "colab_type": "code",
        "colab": {
          "base_uri": "https://localhost:8080/",
          "height": 122
        },
        "outputId": "63c490f5-d582-455a-c184-e58c790dad4e"
      },
      "source": [
        "from google.colab import drive\n",
        "drive.mount('/content/drive')"
      ],
      "execution_count": 8,
      "outputs": [
        {
          "output_type": "stream",
          "text": [
            "Go to this URL in a browser: https://accounts.google.com/o/oauth2/auth?client_id=947318989803-6bn6qk8qdgf4n4g3pfee6491hc0brc4i.apps.googleusercontent.com&redirect_uri=urn%3aietf%3awg%3aoauth%3a2.0%3aoob&response_type=code&scope=email%20https%3a%2f%2fwww.googleapis.com%2fauth%2fdocs.test%20https%3a%2f%2fwww.googleapis.com%2fauth%2fdrive%20https%3a%2f%2fwww.googleapis.com%2fauth%2fdrive.photos.readonly%20https%3a%2f%2fwww.googleapis.com%2fauth%2fpeopleapi.readonly\n",
            "\n",
            "Enter your authorization code:\n",
            "··········\n",
            "Mounted at /content/drive\n"
          ],
          "name": "stdout"
        }
      ]
    },
    {
      "cell_type": "code",
      "metadata": {
        "id": "u2JzZf73XdHi",
        "colab_type": "code",
        "colab": {
          "base_uri": "https://localhost:8080/",
          "height": 282
        },
        "outputId": "60937ae2-44a3-4780-a19c-0d40a506efc7"
      },
      "source": [
        "import matplotlib.pyplot as plt\n",
        "import numpy as np\n",
        "#feel free to change this index to see other digits being predicted\n",
        "# if want to upload the image use the shape of (1,28,28,1) for the predict method\n",
        "# also use the binary filter for accuracy \n",
        "index = 112\n",
        "\n",
        "image = X_test[index].reshape((28,28))\n",
        "plt.imshow(image)\n",
        "predict_image = X_test[index].reshape((1,28,28,1))\n",
        "predicted_array = model.predict(predict_image)\n",
        "pred_max = predicted_array.max()\n",
        "value = np.where(predicted_array == pred_max)\n",
        "\n",
        "print(\"The predicted value for the given image is {}\".format(value[1][0]))"
      ],
      "execution_count": 34,
      "outputs": [
        {
          "output_type": "stream",
          "text": [
            "The predicted value for the given image is 3\n"
          ],
          "name": "stdout"
        },
        {
          "output_type": "display_data",
          "data": {
            "image/png": "[encoded data removed]",
            "text/plain": [
              "<Figure size 432x288 with 1 Axes>"
            ]
          },
          "metadata": {
            "tags": [],
            "needs_background": "light"
          }
        }
      ]
    }
  ]
}