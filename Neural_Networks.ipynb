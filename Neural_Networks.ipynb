{
  "nbformat": 4,
  "nbformat_minor": 0,
  "metadata": {
    "colab": {
      "name": "Neural Networks.ipynb",
      "provenance": [],
      "authorship_tag": "ABX9TyOiyYbeRjtEhLGkYrFE2mc0",
      "include_colab_link": true
    },
    "kernelspec": {
      "name": "python3",
      "display_name": "Python 3"
    }
  },
  "cells": [
    {
      "cell_type": "markdown",
      "metadata": {
        "id": "view-in-github",
        "colab_type": "text"
      },
      "source": [
        "<a href=\"https://colab.research.google.com/github/prd-dahal/AI_Projects/blob/master/Neural_Networks.ipynb\" target=\"_parent\"><img src=\"https://colab.research.google.com/assets/colab-badge.svg\" alt=\"Open In Colab\"/></a>"
      ]
    },
    {
      "cell_type": "markdown",
      "metadata": {
        "id": "xdLYMg5Ltjgv",
        "colab_type": "text"
      },
      "source": [
        "## **Week 2 Practice**\n"
      ]
    },
    {
      "cell_type": "code",
      "metadata": {
        "id": "oi5xZxvutnIe",
        "colab_type": "code",
        "outputId": "f5f43c08-1fdf-4473-e5d0-102011642ab0",
        "colab": {
          "base_uri": "https://localhost:8080/",
          "height": 34
        }
      },
      "source": [
        "import numpy as np\n",
        "import math\n",
        "\n",
        "\n",
        "#defination of sigmoid function\n",
        "def sigmoid(x):\n",
        "  return 1/(1+math.pow(2.71828,-x))\n",
        "\n",
        "#defination of output function where w is array of weight and x is array of inputs and b is the bias\n",
        "def output(w,x,b):\n",
        "  return sigmoid(((np.transpose(w)*x).sum()+b))\n",
        "\n",
        "#defination of log fuction as log 0 myst give -infinite value \n",
        "def log(x):\n",
        "    if(x==0):\n",
        "      return -(99999)\n",
        "    else:\n",
        "      return math.log(x)\n",
        "\n",
        "#defination of cost function where y and y_cap  are numpy arrays of dimension 1 * nx where nx is \n",
        "#the number of features\n",
        "def cost_function(y, y_cap):\n",
        "  m = len(y)\n",
        "  temp_y_cap = list()\n",
        "  temp_y_cap1 = list()\n",
        "  for i in y_cap:\n",
        "    temp_y_cap.append(log(i))\n",
        "    temp_y_cap1.append(log(1-i))\n",
        "  \n",
        "  temp_y_cap = np.array(temp_y_cap)\n",
        "  temp_y_cap1 = np.array(temp_y_cap1) \n",
        "  \n",
        "  temp_cost = (y*temp_y_cap)+ (1-y)*temp_y_cap1\n",
        "  temp_cost = -(temp_cost.sum())\n",
        "  return (-1/m)*temp_cost\n",
        "\n",
        "#main function exceution\n",
        "y = np.array([1, 0, 1])\n",
        "y_cap = np.array([1, 1, 1])\n",
        "print(cost_function(y,y_cap))\n",
        "\n",
        "w = np.array([[1],[2],[3]])\n",
        "x = np.array([[1, 2, 3]])\n",
        "b = 3\n",
        "\n"
      ],
      "execution_count": 0,
      "outputs": [
        {
          "output_type": "stream",
          "text": [
            "33333.0\n"
          ],
          "name": "stdout"
        }
      ]
    },
    {
      "cell_type": "markdown",
      "metadata": {
        "id": "FaKfo95i7GHo",
        "colab_type": "text"
      },
      "source": [
        "# **Logistic Regression using Neural Network USING LOOPS ( i.e Without Vectorization**"
      ]
    },
    {
      "cell_type": "code",
      "metadata": {
        "id": "t_OdbeJLDxma",
        "colab_type": "code",
        "colab": {}
      },
      "source": [
        "#Following Code is not the efficient code but rather a make it work kind of code.\n",
        "\n",
        "\n",
        "\n",
        "import numpy as np\n",
        "import random \n",
        "\n",
        "class LogisticRegression:\n",
        "  \n",
        "  def __init__(self,num_iter,alpha):\n",
        "    self.num_iter = num_iter\n",
        "    self.alpha = alpha\n",
        "    self.weights = list()\n",
        "    self.b = float()\n",
        "\n",
        "  #private function to calculate sigmoid\n",
        "  def __sigmoid(self,x):\n",
        "    return 1/(1+np.exp(x))\n",
        "  \n",
        "  #fit the object with the training data X and y\n",
        "  def fit(self,X,y):\n",
        "    nx = len(X[0]) # no of features\n",
        "    m = len(X)    #no of training examples\n",
        "\n",
        "    #intitialize all weights to zero\n",
        "    for i in range(nx):\n",
        "      self.weights.append(random.randint(-10,10))\n",
        "    self.b = random.randint(-10,10)\n",
        "\n",
        "    for t in range(self.num_iter): #loop unitil the number of interation provided by user\n",
        "      \n",
        "      #variable intialization\n",
        "      z = list()\n",
        "      a = list()\n",
        "      J = 0\n",
        "      dw = list()\n",
        "      db = 0\n",
        "      \n",
        "      for i in range(m):\n",
        "       \n",
        "        z.append(np.dot(X[i],self.weights) + self.b)\n",
        "        a.append(self.__sigmoid(z[i]))\n",
        "        J = J +  (- ((y[i]*np.log(a[i]))))\n",
        "        dz = a[i]-y[i]\n",
        "        \n",
        "        for j in range(nx):\n",
        "          if (i==0):\n",
        "            dw.append((X[i][j] * dz))\n",
        "          else:\n",
        "            dw[j] = dw[j] + (X[i][j] * dz)\n",
        "        db = db + a[i] - y[i]\n",
        "      \n",
        "      for i in range(nx):\n",
        "         dw[j] = dw[j]/m\n",
        "      \n",
        "      J = J/m\n",
        "      db = db/m\n",
        "      \n",
        "      for i in range(len(self.weights)):\n",
        "         self.weights[i] = self.weights[i] - self.alpha * dw[i] \n",
        "      \n",
        "\n",
        "#main function\n",
        "feature_x = [[1,2,3],\n",
        "             [3,4,5],\n",
        "             [6,7,8]]\n",
        "result_y = [1,0,1]\n",
        "\n",
        "lr = LogisticRegression(5,0.1)\n",
        "lr.fit(feature_x,result_y)"
      ],
      "execution_count": 0,
      "outputs": []
    },
    {
      "cell_type": "code",
      "metadata": {
        "id": "9dK6HBIzZCpL",
        "colab_type": "code",
        "colab": {
          "base_uri": "https://localhost:8080/",
          "height": 34
        },
        "outputId": "c50ada51-37f9-4d6a-a4c2-63e93a3cd1ac"
      },
      "source": [
        "x = [1,2,3]\n",
        "y=[3,4,5]\n",
        "np.dot(x,y)"
      ],
      "execution_count": 14,
      "outputs": [
        {
          "output_type": "execute_result",
          "data": {
            "text/plain": [
              "26"
            ]
          },
          "metadata": {
            "tags": []
          },
          "execution_count": 14
        }
      ]
    }
  ]
}