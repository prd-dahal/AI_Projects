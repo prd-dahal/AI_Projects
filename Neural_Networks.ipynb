{
  "nbformat": 4,
  "nbformat_minor": 0,
  "metadata": {
    "colab": {
      "name": "Neural Networks.ipynb",
      "provenance": [],
      "authorship_tag": "ABX9TyNB/f66ruUCxwqL0VVgrLg/",
      "include_colab_link": true
    },
    "kernelspec": {
      "name": "python3",
      "display_name": "Python 3"
    }
  },
  "cells": [
    {
      "cell_type": "markdown",
      "metadata": {
        "id": "view-in-github",
        "colab_type": "text"
      },
      "source": [
        "<a href=\"https://colab.research.google.com/github/prd-dahal/AI_Projects/blob/master/Neural_Networks.ipynb\" target=\"_parent\"><img src=\"https://colab.research.google.com/assets/colab-badge.svg\" alt=\"Open In Colab\"/></a>"
      ]
    },
    {
      "cell_type": "markdown",
      "metadata": {
        "id": "xdLYMg5Ltjgv",
        "colab_type": "text"
      },
      "source": [
        "## **Week 2 Practice**\n"
      ]
    },
    {
      "cell_type": "code",
      "metadata": {
        "id": "oi5xZxvutnIe",
        "colab_type": "code",
        "outputId": "f5f43c08-1fdf-4473-e5d0-102011642ab0",
        "colab": {
          "base_uri": "https://localhost:8080/",
          "height": 34
        }
      },
      "source": [
        "import numpy as np\n",
        "import math\n",
        "\n",
        "\n",
        "#defination of sigmoid function\n",
        "def sigmoid(x):\n",
        "  return 1/(1+math.pow(2.71828,-x))\n",
        "\n",
        "#defination of output function where w is array of weight and x is array of inputs and b is the bias\n",
        "def output(w,x,b):\n",
        "  return sigmoid(((np.transpose(w)*x).sum()+b))\n",
        "\n",
        "#defination of log fuction as log 0 myst give -infinite value \n",
        "def log(x):\n",
        "    if(x==0):\n",
        "      return -(99999)\n",
        "    else:\n",
        "      return math.log(x)\n",
        "\n",
        "#defination of cost function where y and y_cap  are numpy arrays of dimension 1 * nx where nx is \n",
        "#the number of features\n",
        "def cost_function(y, y_cap):\n",
        "  m = len(y)\n",
        "  temp_y_cap = list()\n",
        "  temp_y_cap1 = list()\n",
        "  for i in y_cap:\n",
        "    temp_y_cap.append(log(i))\n",
        "    temp_y_cap1.append(log(1-i))\n",
        "  \n",
        "  temp_y_cap = np.array(temp_y_cap)\n",
        "  temp_y_cap1 = np.array(temp_y_cap1) \n",
        "  \n",
        "  temp_cost = (y*temp_y_cap)+ (1-y)*temp_y_cap1\n",
        "  temp_cost = -(temp_cost.sum())\n",
        "  return (-1/m)*temp_cost\n",
        "\n",
        "#main function exceution\n",
        "y = np.array([1, 0, 1])\n",
        "y_cap = np.array([1, 1, 1])\n",
        "print(cost_function(y,y_cap))\n",
        "\n",
        "w = np.array([[1],[2],[3]])\n",
        "x = np.array([[1, 2, 3]])\n",
        "b = 3\n",
        "\n"
      ],
      "execution_count": 0,
      "outputs": [
        {
          "output_type": "stream",
          "text": [
            "33333.0\n"
          ],
          "name": "stdout"
        }
      ]
    },
    {
      "cell_type": "markdown",
      "metadata": {
        "id": "FaKfo95i7GHo",
        "colab_type": "text"
      },
      "source": [
        "# **Logistic Regression USING LOOPS ( i.e Without Vectorization**\n"
      ]
    },
    {
      "cell_type": "code",
      "metadata": {
        "id": "t_OdbeJLDxma",
        "colab_type": "code",
        "colab": {}
      },
      "source": [
        "#Following Code is not the efficient code but rather a make it work kind of code.\n",
        "\n",
        "\n",
        "\n",
        "import numpy as np\n",
        "import random \n",
        "\n",
        "class LogisticRegression:\n",
        "  \n",
        "  def __init__(self,num_iter,alpha):\n",
        "    self.num_iter = num_iter\n",
        "    self.alpha = alpha\n",
        "    self.weights = list()\n",
        "    self.b = float()\n",
        "\n",
        "  #private function to calculate sigmoid\n",
        "  def __sigmoid(self,x):\n",
        "    return 1/(1+np.exp(x))\n",
        "  \n",
        "  #fit the object with the training data X and y\n",
        "  def fit(self,X,y):\n",
        "    nx = len(X[0]) # no of features\n",
        "    m = len(X)    #no of training examples\n",
        "\n",
        "    #intitialize all weights to zero\n",
        "    for i in range(nx):\n",
        "      self.weights.append(random.randint(-10,10))\n",
        "    self.b = random.randint(-10,10)\n",
        "\n",
        "    for t in range(self.num_iter): #loop unitil the number of interation provided by user\n",
        "      \n",
        "      #variable intialization\n",
        "      z = list()\n",
        "      a = list()\n",
        "      J = 0\n",
        "      dw = list()\n",
        "      db = 0\n",
        "      \n",
        "      for i in range(m):\n",
        "       \n",
        "        z.append(np.dot(X[i],self.weights) + self.b)\n",
        "        a.append(self.__sigmoid(z[i]))\n",
        "        J = J +  (- ((y[i]*np.log(a[i]))))\n",
        "        dz = a[i]-y[i]\n",
        "        \n",
        "        for j in range(nx):\n",
        "          if (i==0):\n",
        "            dw.append((X[i][j] * dz))\n",
        "          else:\n",
        "            dw[j] = dw[j] + (X[i][j] * dz)\n",
        "        db = db + a[i] - y[i]\n",
        "      \n",
        "      for i in range(nx):\n",
        "         dw[j] = dw[j]/m\n",
        "      \n",
        "      J = J/m\n",
        "      db = db/m\n",
        "      \n",
        "      for i in range(len(self.weights)):\n",
        "         self.weights[i] = self.weights[i] - self.alpha * dw[i] \n",
        "      \n",
        "\n",
        "#main function\n",
        "feature_x = [[1,2,3],\n",
        "             [3,4,5],\n",
        "             [6,7,8]]\n",
        "result_y = [1,0,1]\n",
        "\n",
        "lr = LogisticRegression(5,0.1)\n",
        "lr.fit(feature_x,result_y)"
      ],
      "execution_count": 0,
      "outputs": []
    },
    {
      "cell_type": "markdown",
      "metadata": {
        "id": "BkVMiIWli1GP",
        "colab_type": "text"
      },
      "source": [
        "### Vectorization"
      ]
    },
    {
      "cell_type": "code",
      "metadata": {
        "id": "3MokKFtsi3Nr",
        "colab_type": "code",
        "colab": {
          "base_uri": "https://localhost:8080/",
          "height": 102
        },
        "outputId": "e36d4db4-8fa9-4aa6-c943-e00428a5ca16"
      },
      "source": [
        "import time \n",
        "a = np.random.rand(1000000)\n",
        "b = np.random.rand(1000000)\n",
        "\n",
        "tic = time.time()\n",
        "c = np.dot(a,b)\n",
        "print(c)\n",
        "toc = time.time()\n",
        "\n",
        "print(\"It took {}ms\".format(1000*(toc-tic)))\n",
        "\n",
        "sum=0\n",
        "tic1 = time.time()\n",
        "for i in range(len(a)):\n",
        "  sum = sum + a[i] * b[i]\n",
        "print(sum)\n",
        "toc1 = time.time()\n",
        "\n",
        "print(\"It took {}ms\".format(1000*(toc1-tic1)))\n",
        "\n",
        "\n",
        "print(\"Vectorization is {} times faster\".format((toc1-tic1)/(toc-tic)))"
      ],
      "execution_count": 39,
      "outputs": [
        {
          "output_type": "stream",
          "text": [
            "250074.12538953198\n",
            "It took 1.734018325805664ms\n",
            "250074.12538952183\n",
            "It took 655.620813369751ms\n",
            "Vectorization is 378.09335899903755 times faster\n"
          ],
          "name": "stdout"
        }
      ]
    },
    {
      "cell_type": "markdown",
      "metadata": {
        "id": "kjDRXs6kw98u",
        "colab_type": "text"
      },
      "source": [
        "## Broadcasting in python"
      ]
    },
    {
      "cell_type": "code",
      "metadata": {
        "id": "kb5VoXRYmHJ3",
        "colab_type": "code",
        "colab": {
          "base_uri": "https://localhost:8080/",
          "height": 51
        },
        "outputId": "18a454d1-27fc-4972-a2c8-cc70dbe1f68a"
      },
      "source": [
        "import numpy as np\n",
        "\n",
        "A = np.array([[56.0,0.0,4.4,68.0],\n",
        "              [1.2,104.0,52.0,8.0],\n",
        "              [1.8,135.0,99.0,0.9]])\n",
        "# print(A)\n",
        "# print(A.sum(axis=0))\n",
        "# print(A.sum(axis=1))"
      ],
      "execution_count": 88,
      "outputs": [
        {
          "output_type": "stream",
          "text": [
            "[ 59.  239.  155.4  76.9]\n",
            "[128.4 165.2 236.7]\n"
          ],
          "name": "stdout"
        }
      ]
    },
    {
      "cell_type": "markdown",
      "metadata": {
        "id": "-6Br6tsFK3P3",
        "colab_type": "text"
      },
      "source": [
        "# ***Logistic Regression Using Vectorization ***"
      ]
    },
    {
      "cell_type": "code",
      "metadata": {
        "id": "9E6lQRTlLKI6",
        "colab_type": "code",
        "colab": {
          "base_uri": "https://localhost:8080/",
          "height": 51
        },
        "outputId": "d59fb783-373e-45f2-b099-a995617a465d"
      },
      "source": [
        "class VLogisticRegression:\n",
        "  def __init__(self, num_iter, alpha, verbose = 0):\n",
        "    self.num_iter = num_iter\n",
        "    self.alpha = alpha\n",
        "    self.weights = list()\n",
        "    self.intercept = 0\n",
        "  def weights_(self):\n",
        "    return self.weights\n",
        "  \n",
        "  def intercept_(self):\n",
        "    return self.intercept\n",
        "\n",
        "  def fit(self,X,y):\n",
        "    nx = X.shape[1] \n",
        "    m = X.shape[0]\n",
        "    dw = np.random.randn(nx)\n",
        "    weights = np.random.randn(1,nx)\n",
        "    b = np.random.randn(1,1)\n",
        "    \n",
        "    for i in range(self.num_iter):\n",
        "      Z = np.dot(weights, X.T) + b\n",
        "      a = 1/(1+np.exp(-Z))\n",
        "      dZ = a-y\n",
        "      db = np.mean(dZ)\n",
        "      dw = ((dZ.reshape(4,1) * X).sum(axis=0))/m\n",
        "      weights = weights - (self.alpha * dw)\n",
        "      b = b- self.alpha * db \n",
        "    self.weights = weights\n",
        "    self.intercept = b \n",
        "\n",
        "X = np.array([[1,2,3],\n",
        "              [4,5,6],\n",
        "              [8,9,10],\n",
        "              [11,12,13]])\n",
        "y = np.array([1,0,1,1])\n",
        "VLR = VLogisticRegression(5,0.1)\n",
        "VLR.fit(X,y)\n",
        "print(VLR.weights_())\n",
        "print(VLR.intercept_())"
      ],
      "execution_count": 135,
      "outputs": [
        {
          "output_type": "stream",
          "text": [
            "[[ 0.56037817  1.31054314 -1.36487725]]\n",
            "[[-0.39197766]]\n"
          ],
          "name": "stdout"
        }
      ]
    },
    {
      "cell_type": "code",
      "metadata": {
        "id": "ZVD-3IKPga9F",
        "colab_type": "code",
        "colab": {
          "base_uri": "https://localhost:8080/",
          "height": 51
        },
        "outputId": "2f00f64e-0509-483b-c54e-f2bfa7bc3440"
      },
      "source": [
        "## HIT AND TIRAL FOR THE ALOGIRTHM ABOVE\n",
        "\n",
        "X = np.array([[1,2,3],\n",
        "              [4,5,6],\n",
        "              [8,9,10],\n",
        "              [11,12,13]])\n",
        "y = np.array([1,0,1,1])\n",
        "# print(X.shape[1])\n",
        "\n",
        "weights = np.ones(3)\n",
        "# print(weights)\n",
        "b = np.ones(1)\n",
        "Z = (np.dot(weights,X.T)+b)\n",
        "\n",
        "a = 1/(1+np.exp(-Z))\n",
        "# print(Z)\n",
        "# print(a)\n",
        "# print(y)\n",
        "dZ = a-y\n",
        "dw = (dZ.reshape(4,1)) * X\n",
        "# print(dw)\n",
        "dw = (dw.sum(axis=0))\n",
        "# print(dw)\n",
        "# print(dw/3)\n",
        "# print(dz)\n",
        "print(weights)\n",
        "weights = weights - 0.1 * (dw)\n",
        "print(weights)"
      ],
      "execution_count": 130,
      "outputs": [
        {
          "output_type": "stream",
          "text": [
            "[1. 1. 1.]\n",
            "[0.60009115 0.50018227 0.40027338]\n"
          ],
          "name": "stdout"
        }
      ]
    }
  ]
}