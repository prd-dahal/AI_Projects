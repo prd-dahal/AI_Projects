{
  "nbformat": 4,
  "nbformat_minor": 0,
  "metadata": {
    "colab": {
      "name": "Currency Detection using Transfer Learning.ipynb",
      "provenance": [],
      "machine_shape": "hm",
      "authorship_tag": "ABX9TyOL0GKfxQm2EKnoJha45iKi",
      "include_colab_link": true
    },
    "kernelspec": {
      "name": "python3",
      "display_name": "Python 3"
    }
  },
  "cells": [
    {
      "cell_type": "markdown",
      "metadata": {
        "id": "view-in-github",
        "colab_type": "text"
      },
      "source": [
        "<a href=\"https://colab.research.google.com/github/prd-dahal/AI_Projects/blob/master/Currency_Detection_using_Transfer_Learning.ipynb\" target=\"_parent\"><img src=\"https://colab.research.google.com/assets/colab-badge.svg\" alt=\"Open In Colab\"/></a>"
      ]
    },
    {
      "cell_type": "code",
      "metadata": {
        "id": "32vyk3_tc2Uf",
        "colab_type": "code",
        "outputId": "4999a62e-b2d8-45bc-8b52-ba5babd1984a",
        "colab": {
          "base_uri": "https://localhost:8080/",
          "height": 71
        }
      },
      "source": [
        "from google.colab import drive\n",
        "drive.mount('/content/gdrive')\n",
        "import os\n",
        "print(os.listdir('/content/gdrive/My Drive/MONEY DETECTION DATA/valid'))"
      ],
      "execution_count": 1,
      "outputs": [
        {
          "output_type": "stream",
          "text": [
            "Drive already mounted at /content/gdrive; to attempt to forcibly remount, call drive.mount(\"/content/gdrive\", force_remount=True).\n",
            "['100', '10', '50', '500', '1000', '20', 'None', '5']\n"
          ],
          "name": "stdout"
        }
      ]
    },
    {
      "cell_type": "code",
      "metadata": {
        "id": "AD14spUMeEoG",
        "colab_type": "code",
        "outputId": "6f9cedeb-2353-4653-de3d-9413a80adb50",
        "colab": {
          "base_uri": "https://localhost:8080/",
          "height": 34
        }
      },
      "source": [
        "#dependencies  \n",
        "import keras \n",
        "from keras import Model, Sequential, layers, models\n",
        "from keras.preprocessing.image import ImageDataGenerator\n",
        "from PIL import ImageFile\n",
        "from keras import regularizers"
      ],
      "execution_count": 2,
      "outputs": [
        {
          "output_type": "stream",
          "text": [
            "Using TensorFlow backend.\n"
          ],
          "name": "stderr"
        }
      ]
    },
    {
      "cell_type": "code",
      "metadata": {
        "id": "d5IpySBieauS",
        "colab_type": "code",
        "colab": {}
      },
      "source": [
        "#variable declerations \n",
        "image_width = 256\n",
        "image_height = 256\n",
        "batch_size = 16\n",
        "no_of_training_sample = 250\n",
        "no_of_validation_sample = 50\n",
        "epochs = 90\n",
        "train_path = '/content/gdrive/My Drive/MONEY DETECTION DATA/train'\n",
        "valid_path = '/content/gdrive/My Drive/MONEY DETECTION DATA/valid'\n"
      ],
      "execution_count": 0,
      "outputs": []
    },
    {
      "cell_type": "code",
      "metadata": {
        "id": "NUeiht7Me5Uu",
        "colab_type": "code",
        "outputId": "d0de807a-165a-45cb-9fcd-60f16d89f620",
        "colab": {
          "base_uri": "https://localhost:8080/",
          "height": 1000
        }
      },
      "source": [
        "#preparing model \n",
        "model = keras.applications.VGG19(include_top=False, weights='imagenet',input_shape=(image_height,image_width,3))\n",
        "#freezing all the layers except  last layer \n",
        "for layer in model.layers[:-2]:\n",
        "  layer.trainable = False\n",
        "\n",
        "#adding custom layers\n",
        "x = model.output\n",
        "x = layers.Flatten()(x)\n",
        "x = layers.Dense(1024, activation='relu', kernel_regularizer=regularizers.l2(0.01))(x)\n",
        "x = layers.Dense(512, activation='relu',kernel_regularizer=regularizers.l2(0.01))(x)\n",
        "predictions = layers.Dense(8, activation='softmax')(x)\n",
        "model_final = Model(inputs=model.input, outputs=predictions)\n",
        "model_final.compile(loss = 'categorical_crossentropy', optimizer='Adam', metrics=['accuracy'])\n",
        "model_final.summary()"
      ],
      "execution_count": 4,
      "outputs": [
        {
          "output_type": "stream",
          "text": [
            "Model: \"model_1\"\n",
            "_________________________________________________________________\n",
            "Layer (type)                 Output Shape              Param #   \n",
            "=================================================================\n",
            "input_1 (InputLayer)         (None, 256, 256, 3)       0         \n",
            "_________________________________________________________________\n",
            "block1_conv1 (Conv2D)        (None, 256, 256, 64)      1792      \n",
            "_________________________________________________________________\n",
            "block1_conv2 (Conv2D)        (None, 256, 256, 64)      36928     \n",
            "_________________________________________________________________\n",
            "block1_pool (MaxPooling2D)   (None, 128, 128, 64)      0         \n",
            "_________________________________________________________________\n",
            "block2_conv1 (Conv2D)        (None, 128, 128, 128)     73856     \n",
            "_________________________________________________________________\n",
            "block2_conv2 (Conv2D)        (None, 128, 128, 128)     147584    \n",
            "_________________________________________________________________\n",
            "block2_pool (MaxPooling2D)   (None, 64, 64, 128)       0         \n",
            "_________________________________________________________________\n",
            "block3_conv1 (Conv2D)        (None, 64, 64, 256)       295168    \n",
            "_________________________________________________________________\n",
            "block3_conv2 (Conv2D)        (None, 64, 64, 256)       590080    \n",
            "_________________________________________________________________\n",
            "block3_conv3 (Conv2D)        (None, 64, 64, 256)       590080    \n",
            "_________________________________________________________________\n",
            "block3_conv4 (Conv2D)        (None, 64, 64, 256)       590080    \n",
            "_________________________________________________________________\n",
            "block3_pool (MaxPooling2D)   (None, 32, 32, 256)       0         \n",
            "_________________________________________________________________\n",
            "block4_conv1 (Conv2D)        (None, 32, 32, 512)       1180160   \n",
            "_________________________________________________________________\n",
            "block4_conv2 (Conv2D)        (None, 32, 32, 512)       2359808   \n",
            "_________________________________________________________________\n",
            "block4_conv3 (Conv2D)        (None, 32, 32, 512)       2359808   \n",
            "_________________________________________________________________\n",
            "block4_conv4 (Conv2D)        (None, 32, 32, 512)       2359808   \n",
            "_________________________________________________________________\n",
            "block4_pool (MaxPooling2D)   (None, 16, 16, 512)       0         \n",
            "_________________________________________________________________\n",
            "block5_conv1 (Conv2D)        (None, 16, 16, 512)       2359808   \n",
            "_________________________________________________________________\n",
            "block5_conv2 (Conv2D)        (None, 16, 16, 512)       2359808   \n",
            "_________________________________________________________________\n",
            "block5_conv3 (Conv2D)        (None, 16, 16, 512)       2359808   \n",
            "_________________________________________________________________\n",
            "block5_conv4 (Conv2D)        (None, 16, 16, 512)       2359808   \n",
            "_________________________________________________________________\n",
            "block5_pool (MaxPooling2D)   (None, 8, 8, 512)         0         \n",
            "_________________________________________________________________\n",
            "flatten_1 (Flatten)          (None, 32768)             0         \n",
            "_________________________________________________________________\n",
            "dense_1 (Dense)              (None, 1024)              33555456  \n",
            "_________________________________________________________________\n",
            "dense_2 (Dense)              (None, 512)               524800    \n",
            "_________________________________________________________________\n",
            "dense_3 (Dense)              (None, 8)                 4104      \n",
            "=================================================================\n",
            "Total params: 54,108,744\n",
            "Trainable params: 36,444,168\n",
            "Non-trainable params: 17,664,576\n",
            "_________________________________________________________________\n"
          ],
          "name": "stdout"
        }
      ]
    },
    {
      "cell_type": "code",
      "metadata": {
        "id": "v5eev6bjioaV",
        "colab_type": "code",
        "outputId": "e3e41b35-7345-475f-f0c1-401282fdb89e",
        "colab": {
          "base_uri": "https://localhost:8080/",
          "height": 51
        }
      },
      "source": [
        "\n",
        "ImageFile.LOAD_TRUNCATED_IMAGES = True\n",
        "#data augumentation in train set\n",
        "train_data_generator = ImageDataGenerator(\n",
        "    horizontal_flip=True,\n",
        "    rescale = 1./255,\n",
        "    fill_mode ='nearest',\n",
        "    zoom_range = 0.3,\n",
        "    width_shift_range=0.3,\n",
        "    height_shift_range=0.3,\n",
        "    rotation_range=30\n",
        "\n",
        ")\n",
        "#data augumentation in valid test\n",
        "valid_data_generator = ImageDataGenerator(\n",
        "    horizontal_flip =True,\n",
        "    rescale = 1./255,\n",
        "    fill_mode='nearest',\n",
        "    zoom_range = 0.3,\n",
        "    width_shift_range = 0.3,\n",
        "    rotation_range = 30,\n",
        "    height_shift_range = 0.3\n",
        ")\n",
        "\n",
        "#specifying train data directory and resize\n",
        "train_generator = train_data_generator.flow_from_directory(\n",
        "    train_path,\n",
        "    target_size = (image_height, image_width),\n",
        "    class_mode = 'categorical'\n",
        ")\n",
        "\n",
        "#specifying test data directory and resize \n",
        "valid_generator = valid_data_generator.flow_from_directory(\n",
        "    valid_path,\n",
        "    target_size = (image_height, image_width),\n",
        "    class_mode = 'categorical'\n",
        ")\n"
      ],
      "execution_count": 5,
      "outputs": [
        {
          "output_type": "stream",
          "text": [
            "Found 2000 images belonging to 8 classes.\n",
            "Found 560 images belonging to 8 classes.\n"
          ],
          "name": "stdout"
        }
      ]
    },
    {
      "cell_type": "code",
      "metadata": {
        "id": "dg0N6_cMtOJO",
        "colab_type": "code",
        "outputId": "c06fd819-42c6-41b2-ad9d-4ac68615279e",
        "colab": {
          "base_uri": "https://localhost:8080/",
          "height": 1000
        }
      },
      "source": [
        "#fit the model \n",
        "model_final.fit_generator(train_generator,\n",
        "                          samples_per_epoch=no_of_training_sample, \n",
        "                          epochs= epochs, \n",
        "                          validation_data=valid_generator,\n",
        "                          \n",
        ")"
      ],
      "execution_count": 6,
      "outputs": [
        {
          "output_type": "stream",
          "text": [
            "/usr/local/lib/python3.6/dist-packages/ipykernel_launcher.py:4: UserWarning: Update your `fit_generator` call to the Keras 2 API: `fit_generator(<keras.pre..., epochs=90, validation_data=<keras.pre..., steps_per_epoch=7)`\n",
            "  after removing the cwd from sys.path.\n"
          ],
          "name": "stderr"
        },
        {
          "output_type": "stream",
          "text": [
            "Epoch 1/90\n",
            "7/7 [==============================] - 371s 53s/step - loss: 26.9228 - accuracy: 0.1384 - val_loss: 16.7152 - val_accuracy: 0.1554\n",
            "Epoch 2/90\n",
            "7/7 [==============================] - 338s 48s/step - loss: 14.1675 - accuracy: 0.2277 - val_loss: 11.7687 - val_accuracy: 0.2929\n",
            "Epoch 3/90\n",
            "7/7 [==============================] - 335s 48s/step - loss: 11.1833 - accuracy: 0.2500 - val_loss: 9.9978 - val_accuracy: 0.3018\n",
            "Epoch 4/90\n",
            "7/7 [==============================] - 335s 48s/step - loss: 9.1652 - accuracy: 0.3750 - val_loss: 8.0920 - val_accuracy: 0.3768\n",
            "Epoch 5/90\n",
            "7/7 [==============================] - 335s 48s/step - loss: 7.4561 - accuracy: 0.3929 - val_loss: 6.6205 - val_accuracy: 0.3393\n",
            "Epoch 6/90\n",
            "7/7 [==============================] - 330s 47s/step - loss: 6.2558 - accuracy: 0.4567 - val_loss: 6.0223 - val_accuracy: 0.4839\n",
            "Epoch 7/90\n",
            "7/7 [==============================] - 335s 48s/step - loss: 5.4428 - accuracy: 0.4643 - val_loss: 5.5686 - val_accuracy: 0.3929\n",
            "Epoch 8/90\n",
            "7/7 [==============================] - 326s 47s/step - loss: 4.7945 - accuracy: 0.4688 - val_loss: 4.4552 - val_accuracy: 0.4679\n",
            "Epoch 9/90\n",
            "7/7 [==============================] - 343s 49s/step - loss: 4.3135 - accuracy: 0.5714 - val_loss: 4.1688 - val_accuracy: 0.4750\n",
            "Epoch 10/90\n",
            "7/7 [==============================] - 328s 47s/step - loss: 3.9128 - accuracy: 0.5673 - val_loss: 4.5328 - val_accuracy: 0.5143\n",
            "Epoch 11/90\n",
            "7/7 [==============================] - 337s 48s/step - loss: 3.6776 - accuracy: 0.5759 - val_loss: 3.8457 - val_accuracy: 0.4839\n",
            "Epoch 12/90\n",
            "7/7 [==============================] - 335s 48s/step - loss: 3.5574 - accuracy: 0.5848 - val_loss: 3.5022 - val_accuracy: 0.4625\n",
            "Epoch 13/90\n",
            "7/7 [==============================] - 338s 48s/step - loss: 3.2303 - accuracy: 0.6295 - val_loss: 4.0344 - val_accuracy: 0.5054\n",
            "Epoch 14/90\n",
            "7/7 [==============================] - 334s 48s/step - loss: 3.2283 - accuracy: 0.5714 - val_loss: 3.3956 - val_accuracy: 0.4929\n",
            "Epoch 15/90\n",
            "7/7 [==============================] - 333s 48s/step - loss: 2.8231 - accuracy: 0.7098 - val_loss: 2.9819 - val_accuracy: 0.5982\n",
            "Epoch 16/90\n",
            "7/7 [==============================] - 336s 48s/step - loss: 2.7371 - accuracy: 0.6830 - val_loss: 3.1111 - val_accuracy: 0.6018\n",
            "Epoch 17/90\n",
            "7/7 [==============================] - 328s 47s/step - loss: 2.7460 - accuracy: 0.6652 - val_loss: 3.3312 - val_accuracy: 0.6143\n",
            "Epoch 18/90\n",
            "7/7 [==============================] - 345s 49s/step - loss: 2.5074 - accuracy: 0.6875 - val_loss: 2.4686 - val_accuracy: 0.6571\n",
            "Epoch 19/90\n",
            "7/7 [==============================] - 335s 48s/step - loss: 2.3994 - accuracy: 0.7188 - val_loss: 2.7573 - val_accuracy: 0.6286\n",
            "Epoch 20/90\n",
            "7/7 [==============================] - 334s 48s/step - loss: 2.3280 - accuracy: 0.7634 - val_loss: 2.3568 - val_accuracy: 0.6964\n",
            "Epoch 21/90\n",
            "7/7 [==============================] - 335s 48s/step - loss: 2.2383 - accuracy: 0.7500 - val_loss: 2.3147 - val_accuracy: 0.7036\n",
            "Epoch 22/90\n",
            "7/7 [==============================] - 330s 47s/step - loss: 2.0848 - accuracy: 0.8269 - val_loss: 2.3539 - val_accuracy: 0.7446\n",
            "Epoch 23/90\n",
            "7/7 [==============================] - 335s 48s/step - loss: 2.0800 - accuracy: 0.7500 - val_loss: 2.4326 - val_accuracy: 0.7214\n",
            "Epoch 24/90\n",
            "7/7 [==============================] - 336s 48s/step - loss: 2.0143 - accuracy: 0.7812 - val_loss: 2.5128 - val_accuracy: 0.7143\n",
            "Epoch 25/90\n",
            "7/7 [==============================] - 335s 48s/step - loss: 1.9981 - accuracy: 0.7679 - val_loss: 1.8995 - val_accuracy: 0.7143\n",
            "Epoch 26/90\n",
            "7/7 [==============================] - 329s 47s/step - loss: 1.9787 - accuracy: 0.7366 - val_loss: 3.0463 - val_accuracy: 0.6232\n",
            "Epoch 27/90\n",
            "7/7 [==============================] - 346s 49s/step - loss: 1.9898 - accuracy: 0.7321 - val_loss: 1.9955 - val_accuracy: 0.7214\n",
            "Epoch 28/90\n",
            "7/7 [==============================] - 336s 48s/step - loss: 1.8261 - accuracy: 0.8125 - val_loss: 1.7300 - val_accuracy: 0.6750\n",
            "Epoch 29/90\n",
            "7/7 [==============================] - 335s 48s/step - loss: 1.8134 - accuracy: 0.7812 - val_loss: 2.4778 - val_accuracy: 0.6821\n",
            "Epoch 30/90\n",
            "7/7 [==============================] - 335s 48s/step - loss: 1.7695 - accuracy: 0.7902 - val_loss: 1.6459 - val_accuracy: 0.6321\n",
            "Epoch 31/90\n",
            "7/7 [==============================] - 338s 48s/step - loss: 1.9798 - accuracy: 0.7455 - val_loss: 2.4220 - val_accuracy: 0.6607\n",
            "Epoch 32/90\n",
            "7/7 [==============================] - 335s 48s/step - loss: 1.7543 - accuracy: 0.7545 - val_loss: 2.2885 - val_accuracy: 0.7214\n",
            "Epoch 33/90\n",
            "7/7 [==============================] - 330s 47s/step - loss: 1.6823 - accuracy: 0.7981 - val_loss: 1.7868 - val_accuracy: 0.7196\n",
            "Epoch 34/90\n",
            "7/7 [==============================] - 335s 48s/step - loss: 1.6399 - accuracy: 0.7812 - val_loss: 1.5593 - val_accuracy: 0.7839\n",
            "Epoch 35/90\n",
            "7/7 [==============================] - 326s 47s/step - loss: 1.6771 - accuracy: 0.7902 - val_loss: 2.0110 - val_accuracy: 0.7714\n",
            "Epoch 36/90\n",
            "7/7 [==============================] - 345s 49s/step - loss: 1.5621 - accuracy: 0.7946 - val_loss: 1.7845 - val_accuracy: 0.7911\n",
            "Epoch 37/90\n",
            "7/7 [==============================] - 335s 48s/step - loss: 1.3673 - accuracy: 0.8929 - val_loss: 1.2956 - val_accuracy: 0.7482\n",
            "Epoch 38/90\n",
            "7/7 [==============================] - 335s 48s/step - loss: 1.4588 - accuracy: 0.8393 - val_loss: 1.2234 - val_accuracy: 0.7429\n",
            "Epoch 39/90\n",
            "7/7 [==============================] - 335s 48s/step - loss: 1.3986 - accuracy: 0.8482 - val_loss: 1.8494 - val_accuracy: 0.7446\n",
            "Epoch 40/90\n",
            "7/7 [==============================] - 335s 48s/step - loss: 1.4746 - accuracy: 0.7991 - val_loss: 2.0491 - val_accuracy: 0.7411\n",
            "Epoch 41/90\n",
            "7/7 [==============================] - 343s 49s/step - loss: 1.4725 - accuracy: 0.8125 - val_loss: 1.4207 - val_accuracy: 0.7607\n",
            "Epoch 42/90\n",
            "7/7 [==============================] - 336s 48s/step - loss: 1.4568 - accuracy: 0.7902 - val_loss: 1.5109 - val_accuracy: 0.7393\n",
            "Epoch 43/90\n",
            "7/7 [==============================] - 334s 48s/step - loss: 1.3505 - accuracy: 0.8571 - val_loss: 1.5508 - val_accuracy: 0.7893\n",
            "Epoch 44/90\n",
            "7/7 [==============================] - 326s 47s/step - loss: 1.3517 - accuracy: 0.8348 - val_loss: 1.6208 - val_accuracy: 0.7893\n",
            "Epoch 45/90\n",
            "7/7 [==============================] - 339s 48s/step - loss: 1.2446 - accuracy: 0.8462 - val_loss: 2.1619 - val_accuracy: 0.7000\n",
            "Epoch 46/90\n",
            "7/7 [==============================] - 337s 48s/step - loss: 1.3306 - accuracy: 0.8170 - val_loss: 1.7138 - val_accuracy: 0.7232\n",
            "Epoch 47/90\n",
            "7/7 [==============================] - 334s 48s/step - loss: 1.3839 - accuracy: 0.7768 - val_loss: 1.6936 - val_accuracy: 0.7321\n",
            "Epoch 48/90\n",
            "7/7 [==============================] - 334s 48s/step - loss: 1.2233 - accuracy: 0.8348 - val_loss: 1.2605 - val_accuracy: 0.8000\n",
            "Epoch 49/90\n",
            "7/7 [==============================] - 341s 49s/step - loss: 1.3330 - accuracy: 0.8393 - val_loss: 1.7993 - val_accuracy: 0.7339\n",
            "Epoch 50/90\n",
            "7/7 [==============================] - 335s 48s/step - loss: 1.3992 - accuracy: 0.7723 - val_loss: 1.5722 - val_accuracy: 0.7661\n",
            "Epoch 51/90\n",
            "7/7 [==============================] - 331s 47s/step - loss: 1.1399 - accuracy: 0.8750 - val_loss: 1.5127 - val_accuracy: 0.6696\n",
            "Epoch 52/90\n",
            "7/7 [==============================] - 335s 48s/step - loss: 1.1573 - accuracy: 0.8661 - val_loss: 1.2981 - val_accuracy: 0.7732\n",
            "Epoch 53/90\n",
            "7/7 [==============================] - 326s 47s/step - loss: 1.0743 - accuracy: 0.8661 - val_loss: 1.2090 - val_accuracy: 0.8036\n",
            "Epoch 54/90\n",
            "7/7 [==============================] - 346s 49s/step - loss: 1.0807 - accuracy: 0.8705 - val_loss: 0.9155 - val_accuracy: 0.8107\n",
            "Epoch 55/90\n",
            "7/7 [==============================] - 335s 48s/step - loss: 1.1465 - accuracy: 0.8438 - val_loss: 2.0701 - val_accuracy: 0.7696\n",
            "Epoch 56/90\n",
            "7/7 [==============================] - 334s 48s/step - loss: 1.1610 - accuracy: 0.8527 - val_loss: 1.8973 - val_accuracy: 0.7500\n",
            "Epoch 57/90\n",
            "7/7 [==============================] - 336s 48s/step - loss: 1.0155 - accuracy: 0.8527 - val_loss: 1.5843 - val_accuracy: 0.8143\n",
            "Epoch 58/90\n",
            "7/7 [==============================] - 336s 48s/step - loss: 1.0236 - accuracy: 0.8705 - val_loss: 1.0629 - val_accuracy: 0.7464\n",
            "Epoch 59/90\n",
            "7/7 [==============================] - 339s 48s/step - loss: 0.9649 - accuracy: 0.8839 - val_loss: 1.2858 - val_accuracy: 0.8089\n",
            "Epoch 60/90\n",
            "7/7 [==============================] - 335s 48s/step - loss: 0.9849 - accuracy: 0.8795 - val_loss: 1.4171 - val_accuracy: 0.7607\n",
            "Epoch 61/90\n",
            "7/7 [==============================] - 335s 48s/step - loss: 1.1345 - accuracy: 0.8125 - val_loss: 1.5949 - val_accuracy: 0.7179\n",
            "Epoch 62/90\n",
            "7/7 [==============================] - 326s 47s/step - loss: 1.0490 - accuracy: 0.8482 - val_loss: 1.2290 - val_accuracy: 0.7536\n",
            "Epoch 63/90\n",
            "7/7 [==============================] - 339s 48s/step - loss: 1.0006 - accuracy: 0.8654 - val_loss: 1.1899 - val_accuracy: 0.7554\n",
            "Epoch 64/90\n",
            "7/7 [==============================] - 337s 48s/step - loss: 1.0198 - accuracy: 0.8750 - val_loss: 1.3881 - val_accuracy: 0.7857\n",
            "Epoch 65/90\n",
            "7/7 [==============================] - 336s 48s/step - loss: 0.8548 - accuracy: 0.9062 - val_loss: 0.9261 - val_accuracy: 0.7518\n",
            "Epoch 66/90\n",
            "7/7 [==============================] - 338s 48s/step - loss: 0.9239 - accuracy: 0.8839 - val_loss: 0.8872 - val_accuracy: 0.7304\n",
            "Epoch 67/90\n",
            "7/7 [==============================] - 341s 49s/step - loss: 0.9093 - accuracy: 0.8884 - val_loss: 1.8879 - val_accuracy: 0.7643\n",
            "Epoch 68/90\n",
            "7/7 [==============================] - 336s 48s/step - loss: 0.8883 - accuracy: 0.8884 - val_loss: 0.6060 - val_accuracy: 0.7054\n",
            "Epoch 69/90\n",
            "7/7 [==============================] - 329s 47s/step - loss: 0.9317 - accuracy: 0.8510 - val_loss: 1.5853 - val_accuracy: 0.8054\n",
            "Epoch 70/90\n",
            "7/7 [==============================] - 336s 48s/step - loss: 0.8923 - accuracy: 0.8750 - val_loss: 1.0468 - val_accuracy: 0.8125\n",
            "Epoch 71/90\n",
            "7/7 [==============================] - 326s 47s/step - loss: 0.9079 - accuracy: 0.8527 - val_loss: 1.1532 - val_accuracy: 0.8107\n",
            "Epoch 72/90\n",
            "7/7 [==============================] - 347s 50s/step - loss: 0.9937 - accuracy: 0.8214 - val_loss: 1.1898 - val_accuracy: 0.6643\n",
            "Epoch 73/90\n",
            "7/7 [==============================] - 329s 47s/step - loss: 0.8989 - accuracy: 0.8413 - val_loss: 1.8990 - val_accuracy: 0.7232\n",
            "Epoch 74/90\n",
            "7/7 [==============================] - 336s 48s/step - loss: 0.9196 - accuracy: 0.8571 - val_loss: 0.8887 - val_accuracy: 0.7571\n",
            "Epoch 75/90\n",
            "7/7 [==============================] - 336s 48s/step - loss: 0.8728 - accuracy: 0.8438 - val_loss: 1.3916 - val_accuracy: 0.6946\n",
            "Epoch 76/90\n",
            "7/7 [==============================] - 336s 48s/step - loss: 0.9211 - accuracy: 0.8393 - val_loss: 0.9663 - val_accuracy: 0.8018\n",
            "Epoch 77/90\n",
            "7/7 [==============================] - 336s 48s/step - loss: 0.8502 - accuracy: 0.8750 - val_loss: 1.1783 - val_accuracy: 0.7875\n",
            "Epoch 78/90\n",
            "7/7 [==============================] - 335s 48s/step - loss: 0.8720 - accuracy: 0.8393 - val_loss: 0.8539 - val_accuracy: 0.8464\n",
            "Epoch 79/90\n",
            "7/7 [==============================] - 336s 48s/step - loss: 0.7394 - accuracy: 0.8884 - val_loss: 0.8641 - val_accuracy: 0.8250\n",
            "Epoch 80/90\n",
            "7/7 [==============================] - 330s 47s/step - loss: 0.8237 - accuracy: 0.8929 - val_loss: 0.7113 - val_accuracy: 0.8464\n",
            "Epoch 81/90\n",
            "7/7 [==============================] - 346s 49s/step - loss: 0.7231 - accuracy: 0.9018 - val_loss: 1.0358 - val_accuracy: 0.8589\n",
            "Epoch 82/90\n",
            "7/7 [==============================] - 334s 48s/step - loss: 0.7002 - accuracy: 0.9107 - val_loss: 1.1624 - val_accuracy: 0.7964\n",
            "Epoch 83/90\n",
            "7/7 [==============================] - 329s 47s/step - loss: 0.7103 - accuracy: 0.9038 - val_loss: 0.7692 - val_accuracy: 0.7804\n",
            "Epoch 84/90\n",
            "7/7 [==============================] - 337s 48s/step - loss: 0.7226 - accuracy: 0.9241 - val_loss: 0.9150 - val_accuracy: 0.8161\n",
            "Epoch 85/90\n",
            "7/7 [==============================] - 336s 48s/step - loss: 0.6869 - accuracy: 0.9107 - val_loss: 1.5713 - val_accuracy: 0.7786\n",
            "Epoch 86/90\n",
            "7/7 [==============================] - 336s 48s/step - loss: 0.7109 - accuracy: 0.8571 - val_loss: 1.7257 - val_accuracy: 0.8018\n",
            "Epoch 87/90\n",
            "7/7 [==============================] - 335s 48s/step - loss: 0.6465 - accuracy: 0.9375 - val_loss: 0.6306 - val_accuracy: 0.8107\n",
            "Epoch 88/90\n",
            "7/7 [==============================] - 336s 48s/step - loss: 0.7167 - accuracy: 0.8973 - val_loss: 0.7217 - val_accuracy: 0.7643\n",
            "Epoch 89/90\n",
            "7/7 [==============================] - 334s 48s/step - loss: 0.6370 - accuracy: 0.9062 - val_loss: 0.7213 - val_accuracy: 0.8661\n",
            "Epoch 90/90\n",
            "7/7 [==============================] - 344s 49s/step - loss: 0.6058 - accuracy: 0.9107 - val_loss: 0.9950 - val_accuracy: 0.8518\n"
          ],
          "name": "stdout"
        },
        {
          "output_type": "execute_result",
          "data": {
            "text/plain": [
              "<keras.callbacks.callbacks.History at 0x7fc4a538dfd0>"
            ]
          },
          "metadata": {
            "tags": []
          },
          "execution_count": 6
        }
      ]
    },
    {
      "cell_type": "code",
      "metadata": {
        "id": "d8qAjenU10P-",
        "colab_type": "code",
        "colab": {}
      },
      "source": [
        "model.save('money_detection.h5')"
      ],
      "execution_count": 0,
      "outputs": []
    },
    {
      "cell_type": "code",
      "metadata": {
        "id": "I0Hge7Cp2MmP",
        "colab_type": "code",
        "colab": {
          "base_uri": "https://localhost:8080/",
          "height": 303
        },
        "outputId": "c214f56b-5fb7-4b39-9277-c89eae267df2"
      },
      "source": [
        "import os\n",
        "import matplotlib.pyplot as plt\n",
        "import cv2\n",
        "path = '/content/gdrive/My Drive/MONEY DETECTION DATA/valid/20'\n",
        "os.listdir(path)\n",
        "image_path = '/content/gdrive/My Drive/MONEY DETECTION DATA/valid/20/20190618_194930.jpg'\n",
        "image = cv2.imread(image_path)\n",
        "print(image.shape)\n",
        "plt.imshow(image)\n",
        "\n",
        "dim = (256,256)\n",
        "pred_image = cv2.resize(image,dim,interpolation = cv2.INTER_AREA)\n",
        "pred_image = pred_image.reshape(1,256,256,3)\n",
        "\n",
        "predicted = model.predict(pred_image)\n",
        "predicted.shape\n"
      ],
      "execution_count": 38,
      "outputs": [
        {
          "output_type": "stream",
          "text": [
            "(2560, 1440, 3)\n"
          ],
          "name": "stdout"
        },
        {
          "output_type": "execute_result",
          "data": {
            "text/plain": [
              "(1, 8, 8, 512)"
            ]
          },
          "metadata": {
            "tags": []
          },
          "execution_count": 38
        },
        {
          "output_type": "display_data",
          "data": {
            "image/png": "[encoded data removed]",
            "text/plain": [
              "<Figure size 432x288 with 1 Axes>"
            ]
          },
          "metadata": {
            "tags": [],
            "needs_background": "light"
          }
        }
      ]
    }
  ]
}